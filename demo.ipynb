{
 "cells": [
  {
   "cell_type": "code",
   "execution_count": 1,
   "metadata": {},
   "outputs": [],
   "source": [
    "import numpy as np\n",
    "import matplotlib.pyplot as plt\n",
    "from sklearn import datasets\n",
    "from sklearn.model_selection import train_test_split\n",
    "from fs_ono2020 import FeatureSelector\n",
    "\n",
    "\n",
    "random_state = 0"
   ]
  },
  {
   "cell_type": "markdown",
   "metadata": {},
   "source": [
    "### Load MNIST dataset"
   ]
  },
  {
   "cell_type": "code",
   "execution_count": 2,
   "metadata": {},
   "outputs": [
    {
     "name": "stdout",
     "output_type": "stream",
     "text": [
      "training data shape:  (60000, 784)\n"
     ]
    }
   ],
   "source": [
    "X, y = datasets.fetch_openml('mnist_784', version=1, data_home=\".\", return_X_y=True)\n",
    "X_train, X_test, y_train, y_test = train_test_split(X, y, test_size=10000, shuffle=True, random_state=random_state)\n",
    "\n",
    "print(\"training data shape: \", X_train.shape)"
   ]
  },
  {
   "cell_type": "markdown",
   "metadata": {},
   "source": [
    "### Fit the unsupervised feature selector instance and apply it to the dataset"
   ]
  },
  {
   "cell_type": "code",
   "execution_count": 3,
   "metadata": {},
   "outputs": [
    {
     "name": "stdout",
     "output_type": "stream",
     "text": [
      "Starting to fit Feature Selector.\n",
      "Objective function initialized: 132002506091.577194\n",
      "starting loop 1 ... completed. (82 features swapped, obj func: 177309035463.057861)\n",
      "starting loop 2 ... completed. (14 features swapped, obj func: 177621872420.796112)\n",
      "starting loop 3 ... completed. (5 features swapped, obj func: 177687064488.499969)\n",
      "starting loop 4 ... completed. (2 features swapped, obj func: 177765788754.742615)\n",
      "starting loop 5 ... completed. (1 features swapped, obj func: 177771001267.291107)\n",
      "starting loop 6 ... completed. (1 features swapped, obj func: 177774439524.066803)\n",
      "starting loop 7 ... completed. (0 features swapped, obj func: 177774439524.066803)\n",
      "Feature Selector fitted.\n",
      "training data shape:  (60000, 100)\n",
      "selected feature indices:  [180 575 579 628 296 658 347 455 653 234 183 246 632 524 325 159 598 329\n",
      " 412 405 566 684 238 258 156 577 318 460 189 542 516 209 355 601 398 400\n",
      " 212 299 469 520 522 465 260 402 634 511 622 582 216 467 127 553 655 546\n",
      " 150 687 485 205 203 572 436 386 354 481 487 241 491 380 373 321 267 471\n",
      " 154 682 272 636 410 376 407 314 292 344 630 429 462 540 596 263 289 303\n",
      " 689 517 186 270 125 431 351 130 350 243]\n"
     ]
    }
   ],
   "source": [
    "selector = FeatureSelector(n_features=100, random_state=random_state, logging=True)\n",
    "X_train_selected = selector.fit_transform(X_train)\n",
    "X_test_selected = selector.transform(X_test)    # equibalent to X_test[:, selector.selected]\n",
    "\n",
    "print(\"training data shape: \", X_train_selected.shape)\n",
    "print(\"selected feature indices: \", selector.selected)"
   ]
  },
  {
   "cell_type": "markdown",
   "metadata": {},
   "source": [
    "### Visualize the selected features"
   ]
  },
  {
   "cell_type": "code",
   "execution_count": 4,
   "metadata": {},
   "outputs": [
    {
     "data": {
      "image/png": "[encoded data removed]",
      "text/plain": [
       "<Figure size 432x288 with 1 Axes>"
      ]
     },
     "metadata": {
      "needs_background": "light"
     },
     "output_type": "display_data"
    }
   ],
   "source": [
    "img = np.zeros(selector.original_dim)\n",
    "img[selector.selected] = 1.\n",
    "img.resize((28, 28))\n",
    "plt.imshow(img, vmin=0., vmax=1.)\n",
    "plt.show()"
   ]
  },
  {
   "cell_type": "markdown",
   "metadata": {},
   "source": [
    "### Reconstruct vectors from the selected features"
   ]
  },
  {
   "cell_type": "code",
   "execution_count": 5,
   "metadata": {},
   "outputs": [
    {
     "data": {
      "image/png": "[encoded data removed]",
      "text/plain": [
       "<Figure size 432x288 with 2 Axes>"
      ]
     },
     "metadata": {
      "needs_background": "light"
     },
     "output_type": "display_data"
    }
   ],
   "source": [
    "X_test_reconstructed = selector.reconstruct(X_test_selected)\n",
    "\n",
    "fig, ax = plt.subplots(1, 2)\n",
    "ax[0].imshow(X_test[0, :].reshape((28, 28)))\n",
    "ax[0].set_title(\"original image\")\n",
    "ax[1].imshow(X_test_reconstructed[0, :].reshape((28, 28)))\n",
    "ax[1].set_title(\"reconstructed image\")\n",
    "plt.show()"
   ]
  }
 ],
 "metadata": {
  "kernelspec": {
   "display_name": "venv",
   "language": "python",
   "name": "venv"
  },
  "language_info": {
   "codemirror_mode": {
    "name": "ipython",
    "version": 3
   },
   "file_extension": ".py",
   "mimetype": "text/x-python",
   "name": "python",
   "nbconvert_exporter": "python",
   "pygments_lexer": "ipython3",
   "version": "3.7.4"
  }
 },
 "nbformat": 4,
 "nbformat_minor": 4
}
